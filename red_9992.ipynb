{
  "nbformat": 4,
  "nbformat_minor": 0,
  "metadata": {
    "colab": {
      "name": "red.9992",
      "provenance": [],
      "collapsed_sections": [],
      "authorship_tag": "ABX9TyPPqI0xqKWRWwhJ+trzMM/W",
      "include_colab_link": true
    },
    "kernelspec": {
      "name": "python3",
      "display_name": "Python 3"
    },
    "language_info": {
      "name": "python"
    }
  },
  "cells": [
    {
      "cell_type": "markdown",
      "metadata": {
        "id": "view-in-github",
        "colab_type": "text"
      },
      "source": [
        "<a href=\"https://colab.research.google.com/github/MANUELANDRESGV/How-to-implement-an-ML-pipeline/blob/master/red_9992.ipynb\" target=\"_parent\"><img src=\"https://colab.research.google.com/assets/colab-badge.svg\" alt=\"Open In Colab\"/></a>"
      ]
    },
    {
      "cell_type": "code",
      "source": [
        "import IPython\n",
        "from IPython import display\n",
        "display.Image(\"./dnn.jpg\")"
      ],
      "metadata": {
        "colab": {
          "base_uri": "https://localhost:8080/",
          "height": 34
        },
        "id": "IEr-1-75iQ2C",
        "outputId": "37c9f16b-4e8f-4137-8118-9a12caa25b53"
      },
      "execution_count": null,
      "outputs": [
        {
          "output_type": "execute_result",
          "data": {
            "text/plain": [
              "<IPython.core.display.Image object>"
            ],
            "image/png": "./dnn.jpg"
          },
          "metadata": {},
          "execution_count": 1
        }
      ]
    },
    {
      "cell_type": "code",
      "source": [
        "import tensorflow as tf\n",
        "import matplotlib.pyplot as plt\n",
        "import numpy as np"
      ],
      "metadata": {
        "id": "mb-QcSgGiQ6_"
      },
      "execution_count": null,
      "outputs": []
    },
    {
      "cell_type": "code",
      "source": [
        "(train_images, train_labels), (validation_images, validation_labels) = tf.keras.datasets.mnist.load_data()"
      ],
      "metadata": {
        "id": "h1xOvDEEiRAk"
      },
      "execution_count": null,
      "outputs": []
    },
    {
      "cell_type": "code",
      "source": [
        "#dataset properties\n",
        "train_ds_size = len(train_images)\n",
        "validation_ds_size = len(validation_images)\n",
        "class_names = list(set(train_labels))\n",
        "ds_size = train_ds_size + validation_ds_size\n",
        "print(f'Train set size {train_ds_size} is around {np.around(train_ds_size/ds_size * 100,1)}% of the data. Each data point has dimensions {train_images.shape[1:]}')\n",
        "print(f'Validation(Dev) set size {validation_ds_size} is around {np.around(validation_ds_size/ds_size * 100,1)}% of the data. Each data point has dimensions {validation_images.shape[1:]}')\n",
        "print(f'There are {len(class_names)} classes. They are {class_names}')\n",
        "\n",
        "plt.figure(figsize=(7,7))\n",
        "for i in range(9):\n",
        "    plt.subplot(3,3,i+1)\n",
        "    plt.xticks([])\n",
        "    plt.yticks([])\n",
        "    plt.grid(False)\n",
        "    plt.imshow(train_images[i])\n",
        "    # The CIFAR labels happen to be arrays, \n",
        "    # which is why you need the extra index\n",
        "    plt.xlabel(class_names[train_labels[i]])\n",
        "plt.show()"
      ],
      "metadata": {
        "colab": {
          "base_uri": "https://localhost:8080/",
          "height": 480
        },
        "id": "FWosr0P3iREb",
        "outputId": "e4158887-e40f-4d51-e7e2-6c004bd6ba88"
      },
      "execution_count": null,
      "outputs": [
        {
          "output_type": "stream",
          "name": "stdout",
          "text": [
            "Train set size 60000 is around 85.7% of the data. Each data point has dimensions (28, 28)\n",
            "Validation(Dev) set size 10000 is around 14.3% of the data. Each data point has dimensions (28, 28)\n",
            "There are 10 classes. They are [0, 1, 2, 3, 4, 5, 6, 7, 8, 9]\n"
          ]
        },
        {
          "output_type": "display_data",
          "data": {
            "text/plain": [
              "<Figure size 504x504 with 9 Axes>"
            ],
            "image/png": "[encoded data removed]"
          },
          "metadata": {}
        }
      ]
    },
    {
      "cell_type": "code",
      "source": [
        "#Select a ratio of the validation set images to use as test images\n",
        "ratio = 0.8\n",
        "#New test set\n",
        "test_images = validation_images[int(validation_ds_size * ratio):]\n",
        "test_labels = validation_labels[int(validation_ds_size * ratio):]\n",
        "#New validation set\n",
        "validation_images=validation_images[:int(validation_ds_size * ratio)]\n",
        "validation_labels=validation_labels[:int(validation_ds_size * ratio)]\n",
        "#dataset properties\n",
        "train_ds_size = len(train_images)\n",
        "validation_ds_size = len(validation_images)\n",
        "test_ds_size = len(test_images)\n",
        "class_names = list(set(train_labels))\n",
        "ds_size = train_ds_size + validation_ds_size + test_ds_size\n",
        "\n",
        "print(f'Train set size {train_ds_size} is around {np.around(train_ds_size/ds_size * 100,1)}% of the data. Each data point has dimensions {train_images.shape[1:]}')\n",
        "print(f'Validation(Dev) set size {validation_ds_size} is around {np.around(validation_ds_size/ds_size * 100,1)}% of the data. Each data point has dimensions {validation_images.shape[1:]}')\n",
        "print(f'Test set size {test_ds_size} is around {np.around(test_ds_size/ds_size * 100,1)}% of the data. Each data point has dimensions {test_images.shape[1:]}')\n",
        "print(f'There are {len(class_names)} classes. They are {class_names}')"
      ],
      "metadata": {
        "colab": {
          "base_uri": "https://localhost:8080/"
        },
        "id": "mmRGmP4piRIz",
        "outputId": "cfb2c596-6dff-416d-d5d3-09e58c91190d"
      },
      "execution_count": null,
      "outputs": [
        {
          "output_type": "stream",
          "name": "stdout",
          "text": [
            "Train set size 60000 is around 85.7% of the data. Each data point has dimensions (28, 28)\n",
            "Validation(Dev) set size 8000 is around 11.4% of the data. Each data point has dimensions (28, 28)\n",
            "Test set size 2000 is around 2.9% of the data. Each data point has dimensions (28, 28)\n",
            "There are 10 classes. They are [0, 1, 2, 3, 4, 5, 6, 7, 8, 9]\n"
          ]
        }
      ]
    },
    {
      "cell_type": "code",
      "source": [
        "normalize = True\n",
        "if normalize == True:\n",
        "    train_images = train_images / 255.0\n",
        "    validation_images = validation_images / 255.0\n",
        "    test_images = test_images / 255.0"
      ],
      "metadata": {
        "id": "XdhfZ0OoiRMK"
      },
      "execution_count": null,
      "outputs": []
    },
    {
      "cell_type": "code",
      "source": [
        "def build_model(num_classes=len(class_names),  units=128, data_shape=train_images.shape[1:]):\n",
        "  #hidden_layers=1,\n",
        "    model = tf.keras.Sequential()\n",
        "    # input layer\n",
        "    model.add(tf.keras.layers.InputLayer(input_shape=list(data_shape)))\n",
        "    # MLP required shape\n",
        "    model.add(tf.keras.layers.Flatten())\n",
        "    \n",
        "    #hidden layer(s)\n",
        "    #for hidden_layer in range(1,hidden_layers+1):\n",
        "   \n",
        "    model.add(tf.keras.layers.Dense(512, activation='relu'))\n",
        "\n",
        "    \n",
        "   \n",
        "    #output layer\n",
        "    model.add(tf.keras.layers.Dense(num_classes, activation='softmax')) \n",
        "    #model.add(tf.keras.layers.Dense(num_classes, activation='softmax', kernel_regularizer=tf.keras.regularizers.L2(0.1))) \n",
        "    \n",
        "    loss=tf.keras.losses.SparseCategoricalCrossentropy() \n",
        "    metrics=['accuracy']\n",
        "    optimizer=tf.keras.optimizers.Adam()\n",
        "    \n",
        "    model.compile(loss=loss, metrics=metrics, optimizer=optimizer)\n",
        "    \n",
        "    return model"
      ],
      "metadata": {
        "id": "3bXI5rDfiRPL"
      },
      "execution_count": null,
      "outputs": []
    },
    {
      "cell_type": "code",
      "source": [
        "model = build_model()\n",
        "# Verify that the network is as you imagined\n",
        "model.summary()"
      ],
      "metadata": {
        "colab": {
          "base_uri": "https://localhost:8080/"
        },
        "id": "rQrjbcl2iRSU",
        "outputId": "bbea1c2d-0eeb-4619-94ae-8d4d7182e2c9"
      },
      "execution_count": null,
      "outputs": [
        {
          "output_type": "stream",
          "name": "stdout",
          "text": [
            "Model: \"sequential\"\n",
            "_________________________________________________________________\n",
            " Layer (type)                Output Shape              Param #   \n",
            "=================================================================\n",
            " flatten (Flatten)           (None, 784)               0         \n",
            "                                                                 \n",
            " dense (Dense)               (None, 512)               401920    \n",
            "                                                                 \n",
            " dense_1 (Dense)             (None, 10)                5130      \n",
            "                                                                 \n",
            "=================================================================\n",
            "Total params: 407,050\n",
            "Trainable params: 407,050\n",
            "Non-trainable params: 0\n",
            "_________________________________________________________________\n"
          ]
        }
      ]
    },
    {
      "cell_type": "code",
      "source": [
        "history = model.fit(train_images, train_labels, epochs=30, batch_size=32, validation_data=(validation_images, validation_labels))"
      ],
      "metadata": {
        "colab": {
          "base_uri": "https://localhost:8080/"
        },
        "id": "NhnZzualiRVq",
        "outputId": "ffd7f864-1959-418d-927f-a43a314ac979"
      },
      "execution_count": null,
      "outputs": [
        {
          "output_type": "stream",
          "name": "stdout",
          "text": [
            "Epoch 1/30\n",
            "1875/1875 [==============================] - 14s 7ms/step - loss: 0.2008 - accuracy: 0.9409 - val_loss: 0.1164 - val_accuracy: 0.9638\n",
            "Epoch 2/30\n",
            "1875/1875 [==============================] - 12s 6ms/step - loss: 0.0791 - accuracy: 0.9760 - val_loss: 0.0812 - val_accuracy: 0.9747\n",
            "Epoch 3/30\n",
            "1875/1875 [==============================] - 7s 4ms/step - loss: 0.0515 - accuracy: 0.9831 - val_loss: 0.0717 - val_accuracy: 0.9775\n",
            "Epoch 4/30\n",
            "1875/1875 [==============================] - 7s 4ms/step - loss: 0.0357 - accuracy: 0.9887 - val_loss: 0.0714 - val_accuracy: 0.9776\n",
            "Epoch 5/30\n",
            "1875/1875 [==============================] - 7s 4ms/step - loss: 0.0277 - accuracy: 0.9913 - val_loss: 0.0643 - val_accuracy: 0.9804\n",
            "Epoch 6/30\n",
            "1875/1875 [==============================] - 7s 4ms/step - loss: 0.0197 - accuracy: 0.9937 - val_loss: 0.0786 - val_accuracy: 0.9811\n",
            "Epoch 7/30\n",
            "1875/1875 [==============================] - 7s 4ms/step - loss: 0.0179 - accuracy: 0.9939 - val_loss: 0.0844 - val_accuracy: 0.9791\n",
            "Epoch 8/30\n",
            "1875/1875 [==============================] - 7s 4ms/step - loss: 0.0137 - accuracy: 0.9952 - val_loss: 0.0734 - val_accuracy: 0.9818\n",
            "Epoch 9/30\n",
            "1875/1875 [==============================] - 7s 4ms/step - loss: 0.0115 - accuracy: 0.9961 - val_loss: 0.0773 - val_accuracy: 0.9791\n",
            "Epoch 10/30\n",
            "1875/1875 [==============================] - 7s 4ms/step - loss: 0.0115 - accuracy: 0.9961 - val_loss: 0.0817 - val_accuracy: 0.9811\n",
            "Epoch 11/30\n",
            "1875/1875 [==============================] - 7s 4ms/step - loss: 0.0088 - accuracy: 0.9971 - val_loss: 0.0785 - val_accuracy: 0.9816\n",
            "Epoch 12/30\n",
            "1875/1875 [==============================] - 7s 4ms/step - loss: 0.0092 - accuracy: 0.9971 - val_loss: 0.0756 - val_accuracy: 0.9834\n",
            "Epoch 13/30\n",
            "1875/1875 [==============================] - 7s 4ms/step - loss: 0.0064 - accuracy: 0.9980 - val_loss: 0.1090 - val_accuracy: 0.9786\n",
            "Epoch 14/30\n",
            "1875/1875 [==============================] - 7s 4ms/step - loss: 0.0101 - accuracy: 0.9965 - val_loss: 0.0957 - val_accuracy: 0.9816\n",
            "Epoch 15/30\n",
            "1875/1875 [==============================] - 8s 4ms/step - loss: 0.0062 - accuracy: 0.9976 - val_loss: 0.0886 - val_accuracy: 0.9826\n",
            "Epoch 16/30\n",
            "1875/1875 [==============================] - 7s 4ms/step - loss: 0.0063 - accuracy: 0.9979 - val_loss: 0.0944 - val_accuracy: 0.9810\n",
            "Epoch 17/30\n",
            "1875/1875 [==============================] - 7s 4ms/step - loss: 0.0066 - accuracy: 0.9979 - val_loss: 0.1097 - val_accuracy: 0.9795\n",
            "Epoch 18/30\n",
            "1875/1875 [==============================] - 7s 4ms/step - loss: 0.0063 - accuracy: 0.9981 - val_loss: 0.1016 - val_accuracy: 0.9815\n",
            "Epoch 19/30\n",
            "1875/1875 [==============================] - 7s 4ms/step - loss: 0.0058 - accuracy: 0.9980 - val_loss: 0.1101 - val_accuracy: 0.9810\n",
            "Epoch 20/30\n",
            "1875/1875 [==============================] - 7s 4ms/step - loss: 0.0054 - accuracy: 0.9982 - val_loss: 0.1105 - val_accuracy: 0.9827\n",
            "Epoch 21/30\n",
            "1875/1875 [==============================] - 7s 4ms/step - loss: 0.0065 - accuracy: 0.9982 - val_loss: 0.0960 - val_accuracy: 0.9843\n",
            "Epoch 22/30\n",
            "1875/1875 [==============================] - 7s 4ms/step - loss: 0.0044 - accuracy: 0.9987 - val_loss: 0.1149 - val_accuracy: 0.9809\n",
            "Epoch 23/30\n",
            "1875/1875 [==============================] - 7s 4ms/step - loss: 0.0061 - accuracy: 0.9982 - val_loss: 0.1389 - val_accuracy: 0.9796\n",
            "Epoch 24/30\n",
            "1875/1875 [==============================] - 7s 4ms/step - loss: 0.0067 - accuracy: 0.9980 - val_loss: 0.1452 - val_accuracy: 0.9785\n",
            "Epoch 25/30\n",
            "1875/1875 [==============================] - 7s 4ms/step - loss: 0.0044 - accuracy: 0.9987 - val_loss: 0.1243 - val_accuracy: 0.9827\n",
            "Epoch 26/30\n",
            "1875/1875 [==============================] - 7s 4ms/step - loss: 0.0048 - accuracy: 0.9985 - val_loss: 0.1367 - val_accuracy: 0.9824\n",
            "Epoch 27/30\n",
            "1875/1875 [==============================] - 7s 4ms/step - loss: 0.0047 - accuracy: 0.9984 - val_loss: 0.1482 - val_accuracy: 0.9808\n",
            "Epoch 28/30\n",
            "1875/1875 [==============================] - 7s 4ms/step - loss: 0.0043 - accuracy: 0.9987 - val_loss: 0.1576 - val_accuracy: 0.9799\n",
            "Epoch 29/30\n",
            "1875/1875 [==============================] - 7s 4ms/step - loss: 0.0073 - accuracy: 0.9980 - val_loss: 0.1267 - val_accuracy: 0.9827\n",
            "Epoch 30/30\n",
            "1875/1875 [==============================] - 8s 4ms/step - loss: 0.0033 - accuracy: 0.9992 - val_loss: 0.1379 - val_accuracy: 0.9815\n"
          ]
        }
      ]
    },
    {
      "cell_type": "code",
      "source": [
        "acc = history.history['accuracy']\n",
        "val_acc = history.history['val_accuracy']\n",
        "\n",
        "loss = history.history['loss']\n",
        "val_loss = history.history['val_loss']\n",
        "\n",
        "epochs_range = range(30)\n",
        "\n",
        "plt.figure(figsize=(16, 8))\n",
        "plt.subplot(1, 2, 1)\n",
        "plt.plot(epochs_range, acc, label='Training Accuracy')\n",
        "plt.plot(epochs_range, val_acc, label='Validation Accuracy')\n",
        "plt.legend(loc='lower right')\n",
        "plt.title('Training and Validation Accuracy')\n",
        "\n",
        "plt.subplot(1, 2, 2)\n",
        "plt.plot(epochs_range, loss, label='Training Loss')\n",
        "plt.plot(epochs_range, val_loss, label='Validation Loss')\n",
        "plt.legend(loc='upper right')\n",
        "plt.title('Training and Validation Loss')\n",
        "plt.show()"
      ],
      "metadata": {
        "colab": {
          "base_uri": "https://localhost:8080/",
          "height": 499
        },
        "id": "NY5GJ9ajjOt6",
        "outputId": "21ad81e2-8430-4304-d513-f591de5edf44"
      },
      "execution_count": null,
      "outputs": [
        {
          "output_type": "display_data",
          "data": {
            "text/plain": [
              "<Figure size 1152x576 with 2 Axes>"
            ],
            "image/png": "[encoded data removed]"
          },
          "metadata": {
            "needs_background": "light"
          }
        }
      ]
    },
    {
      "cell_type": "code",
      "source": [
        "\n",
        "model.evaluate(test_images, test_labels)"
      ],
      "metadata": {
        "colab": {
          "base_uri": "https://localhost:8080/"
        },
        "id": "qZMcUgwAjPBt",
        "outputId": "76294976-bf11-41a0-86f6-74473415b4e0"
      },
      "execution_count": null,
      "outputs": [
        {
          "output_type": "stream",
          "name": "stdout",
          "text": [
            "63/63 [==============================] - 0s 3ms/step - loss: 0.0887 - accuracy: 0.9870\n"
          ]
        },
        {
          "output_type": "execute_result",
          "data": {
            "text/plain": [
              "[0.08871810883283615, 0.9869999885559082]"
            ]
          },
          "metadata": {},
          "execution_count": 11
        }
      ]
    },
    {
      "cell_type": "code",
      "source": [
        "#Choose a random image from the test set\n",
        "random_image_index = np.random.choice(test_ds_size)\n",
        "random_image = test_images[random_image_index]\n",
        "# Use the trained model to predict the label of an image\n",
        "prediction = model.predict(random_image.reshape(1,28,28))\n",
        "score = tf.nn.softmax(prediction[0])\n",
        "predicted_label = list(score).index(max(score))\n",
        "# See the results\n",
        "plt.figure(figsize=(1,1))\n",
        "plt.xticks([])\n",
        "plt.yticks([])\n",
        "plt.grid(False)\n",
        "plt.imshow(random_image)\n",
        "plt.xlabel(class_names[predicted_label])\n",
        "plt.show()"
      ],
      "metadata": {
        "colab": {
          "base_uri": "https://localhost:8080/",
          "height": 99
        },
        "id": "axDnl2jbjPPh",
        "outputId": "059620b2-53fd-4019-8dd4-a07182fbec24"
      },
      "execution_count": null,
      "outputs": [
        {
          "output_type": "display_data",
          "data": {
            "text/plain": [
              "<Figure size 72x72 with 1 Axes>"
            ],
            "image/png": "[encoded data removed]"
          },
          "metadata": {}
        }
      ]
    },
    {
      "cell_type": "code",
      "source": [
        ""
      ],
      "metadata": {
        "id": "0kl6U8_4jPbM"
      },
      "execution_count": null,
      "outputs": []
    }
  ]
}