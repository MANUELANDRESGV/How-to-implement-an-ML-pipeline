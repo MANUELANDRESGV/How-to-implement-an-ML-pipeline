{
  "nbformat": 4,
  "nbformat_minor": 0,
  "metadata": {
    "colab": {
      "name": "Copia de MLP & XOR2.ipynb",
      "provenance": [],
      "collapsed_sections": [],
      "authorship_tag": "ABX9TyNbnV2gf/iP9JJ8aHvzYBXt",
      "include_colab_link": true
    },
    "kernelspec": {
      "name": "python3",
      "display_name": "Python 3"
    },
    "language_info": {
      "name": "python"
    }
  },
  "cells": [
    {
      "cell_type": "markdown",
      "metadata": {
        "id": "view-in-github",
        "colab_type": "text"
      },
      "source": [
        "<a href=\"https://colab.research.google.com/github/MANUELANDRESGV/How-to-implement-an-ML-pipeline/blob/master/Copia_de_MLP_%26_XOR2.ipynb\" target=\"_parent\"><img src=\"https://colab.research.google.com/assets/colab-badge.svg\" alt=\"Open In Colab\"/></a>"
      ]
    },
    {
      "cell_type": "code",
      "execution_count": 1,
      "metadata": {
        "id": "qhS6FsivFHTJ"
      },
      "outputs": [],
      "source": [
        "from random import randint\n",
        "import numpy as np\n",
        "import tensorflow as tf\n",
        "import matplotlib.pyplot as plt"
      ]
    },
    {
      "cell_type": "code",
      "source": [
        "#XOR\n",
        "number_of_training_examples = 10000\n",
        "def make_xor_sequence(n=number_of_training_examples):\n",
        "    data = np.array([[randint(0,1),randint(0,1)]  for _ in range(n)]) # Input\n",
        "    labels = np.bitwise_xor(data[:,0],data[:,1]) # Output\n",
        "    labels = labels.reshape(len(labels),1)\n",
        "    return data, labels\n",
        "\n",
        "train_data, train_labels = make_xor_sequence()\n",
        "validation_data, validation_labels = make_xor_sequence()"
      ],
      "metadata": {
        "id": "pqy09cOzFzy_"
      },
      "execution_count": 2,
      "outputs": []
    },
    {
      "cell_type": "code",
      "source": [
        "train_data#.reshape(20000)"
      ],
      "metadata": {
        "colab": {
          "base_uri": "https://localhost:8080/"
        },
        "id": "HYEl9bx7F3uW",
        "outputId": "48c5e776-cc1a-4f9c-9b6a-c5f455d897e6"
      },
      "execution_count": 3,
      "outputs": [
        {
          "output_type": "execute_result",
          "data": {
            "text/plain": [
              "array([[1, 0],\n",
              "       [0, 1],\n",
              "       [0, 0],\n",
              "       ...,\n",
              "       [1, 0],\n",
              "       [0, 0],\n",
              "       [0, 0]])"
            ]
          },
          "metadata": {},
          "execution_count": 3
        }
      ]
    },
    {
      "cell_type": "code",
      "source": [
        "train_labels"
      ],
      "metadata": {
        "colab": {
          "base_uri": "https://localhost:8080/"
        },
        "id": "Z_xE9018HLr_",
        "outputId": "6d189f04-a6e1-402b-dc56-bc4b0c10cf6a"
      },
      "execution_count": 4,
      "outputs": [
        {
          "output_type": "execute_result",
          "data": {
            "text/plain": [
              "array([[1],\n",
              "       [1],\n",
              "       [0],\n",
              "       ...,\n",
              "       [1],\n",
              "       [0],\n",
              "       [0]])"
            ]
          },
          "metadata": {},
          "execution_count": 4
        }
      ]
    },
    {
      "cell_type": "code",
      "source": [
        "print(f'input_shape: {train_data.shape} output_shape: {train_labels.shape}')"
      ],
      "metadata": {
        "colab": {
          "base_uri": "https://localhost:8080/"
        },
        "id": "ZrDoumx7F78N",
        "outputId": "c686e561-8497-40bc-ae20-3a50c444d428"
      },
      "execution_count": 5,
      "outputs": [
        {
          "output_type": "stream",
          "name": "stdout",
          "text": [
            "input_shape: (10000, 2) output_shape: (10000, 1)\n"
          ]
        }
      ]
    },
    {
      "cell_type": "code",
      "source": [
        "model = tf.keras.Sequential()\n",
        "model.add(tf.keras.layers.InputLayer(input_shape=(2))) #Input layer\n",
        "model.add(tf.keras.layers.Flatten())\n",
        "\n",
        "#Hidden layers\n",
        "#model.add(tf.keras.layers.Dense(10, activation=None)) #Linear\n",
        "model.add(tf.keras.layers.Dense(16, activation='relu')) #Non-linear\n",
        "model.add(tf.keras.layers.Dense(16, activation='relu')) #Non-linear\n",
        "model.add(tf.keras.layers.Dense(16, activation='relu')) #Non-linear\n",
        "\n",
        "\n",
        "\n",
        "\n",
        "\n",
        "\n",
        "\n",
        "model.add(tf.keras.layers.Dense(1, activation='sigmoid')) #Output layer"
      ],
      "metadata": {
        "id": "BKrr0DP1GAP4"
      },
      "execution_count": 39,
      "outputs": []
    },
    {
      "cell_type": "code",
      "source": [
        "model.compile(loss=tf.keras.losses.BinaryCrossentropy(),\n",
        "             metrics=['accuracy'],\n",
        "             optimizer=tf.keras.optimizers.Adam())"
      ],
      "metadata": {
        "id": "fouzWIB_GDUJ"
      },
      "execution_count": 40,
      "outputs": []
    },
    {
      "cell_type": "code",
      "source": [
        "model.summary()"
      ],
      "metadata": {
        "colab": {
          "base_uri": "https://localhost:8080/"
        },
        "id": "bkXF-r33GHPJ",
        "outputId": "cf2f535c-2219-4ac3-b69c-a2074174f950"
      },
      "execution_count": 41,
      "outputs": [
        {
          "output_type": "stream",
          "name": "stdout",
          "text": [
            "Model: \"sequential_9\"\n",
            "_________________________________________________________________\n",
            " Layer (type)                Output Shape              Param #   \n",
            "=================================================================\n",
            " flatten_9 (Flatten)         (None, 2)                 0         \n",
            "                                                                 \n",
            " dense_32 (Dense)            (None, 16)                48        \n",
            "                                                                 \n",
            " dense_33 (Dense)            (None, 16)                272       \n",
            "                                                                 \n",
            " dense_34 (Dense)            (None, 16)                272       \n",
            "                                                                 \n",
            " dense_35 (Dense)            (None, 1)                 17        \n",
            "                                                                 \n",
            "=================================================================\n",
            "Total params: 609\n",
            "Trainable params: 609\n",
            "Non-trainable params: 0\n",
            "_________________________________________________________________\n"
          ]
        }
      ]
    },
    {
      "cell_type": "code",
      "source": [
        "early_stopping = tf.keras.callbacks.EarlyStopping(\n",
        "    monitor=\"val_accuracy\",patience=2)\n",
        "\n",
        "history = model.fit(train_data, train_labels, batch_size=100, epochs=100, validation_data=(validation_data, validation_labels), callbacks=[early_stopping])\n"
      ],
      "metadata": {
        "colab": {
          "base_uri": "https://localhost:8080/"
        },
        "id": "n7EAsBEAGJh2",
        "outputId": "33bf6901-4723-46ed-a7f8-43805315f311"
      },
      "execution_count": 42,
      "outputs": [
        {
          "output_type": "stream",
          "name": "stdout",
          "text": [
            "Epoch 1/100\n",
            "100/100 [==============================] - 1s 4ms/step - loss: 0.6613 - accuracy: 0.7072 - val_loss: 0.5910 - val_accuracy: 1.0000\n",
            "Epoch 2/100\n",
            "100/100 [==============================] - 0s 3ms/step - loss: 0.3993 - accuracy: 1.0000 - val_loss: 0.1959 - val_accuracy: 1.0000\n",
            "Epoch 3/100\n",
            "100/100 [==============================] - 0s 3ms/step - loss: 0.0974 - accuracy: 1.0000 - val_loss: 0.0381 - val_accuracy: 1.0000\n"
          ]
        }
      ]
    },
    {
      "cell_type": "code",
      "source": [
        "acc = history.history['accuracy']\n",
        "val_acc = history.history['val_accuracy']\n",
        "\n",
        "loss = history.history['loss']\n",
        "val_loss = history.history['val_loss']\n",
        "\n",
        "epochs_range = range(3)\n",
        "\n",
        "plt.figure(figsize=(16, 8))\n",
        "plt.subplot(1, 2, 1)\n",
        "plt.plot(epochs_range, acc, label='Training Accuracy')\n",
        "plt.plot(epochs_range, val_acc, label='Validation Accuracy')\n",
        "plt.legend(loc='lower right')\n",
        "plt.title('Training and Validation Accuracy')\n",
        "\n",
        "plt.subplot(1, 2, 2)\n",
        "plt.plot(epochs_range, loss, label='Training Loss')\n",
        "plt.plot(epochs_range, val_loss, label='Validation Loss')\n",
        "plt.legend(loc='upper right')\n",
        "plt.title('Training and Validation Loss')\n",
        "plt.show()"
      ],
      "metadata": {
        "colab": {
          "base_uri": "https://localhost:8080/",
          "height": 499
        },
        "id": "6zHP54vaGXmh",
        "outputId": "8411bb94-8fda-4547-d044-dbd3161a2aa0"
      },
      "execution_count": null,
      "outputs": [
        {
          "output_type": "display_data",
          "data": {
            "text/plain": [
              "<Figure size 1152x576 with 2 Axes>"
            ],
            "image/png": "[encoded data removed]"
          },
          "metadata": {
            "needs_background": "light"
          }
        }
      ]
    },
    {
      "cell_type": "code",
      "source": [
        "vb"
      ],
      "metadata": {
        "id": "6jpSc5mmqQMt"
      },
      "execution_count": null,
      "outputs": []
    }
  ]
}